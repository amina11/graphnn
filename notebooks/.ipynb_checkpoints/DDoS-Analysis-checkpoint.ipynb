{
 "cells": [
  {
   "cell_type": "code",
   "execution_count": 13,
   "metadata": {
    "scrolled": false
   },
   "outputs": [
    {
     "name": "stdout",
     "output_type": "stream",
     "text": [
      "The autoreload extension is already loaded. To reload it, use:\n",
      "  %reload_ext autoreload\n"
     ]
    }
   ],
   "source": [
    "%load_ext autoreload\n",
    "%autoreload 2"
   ]
  },
  {
   "cell_type": "code",
   "execution_count": 14,
   "metadata": {},
   "outputs": [],
   "source": [
    "import os\n",
    "import sys\n",
    "import numpy as np\n",
    "import pandas as pd\n",
    "import datetime\n",
    "import seaborn as sns\n",
    "import ogb\n",
    "from tqdm import tqdm\n",
    "import hiplot as hip\n",
    "from copy import deepcopy\n",
    "import datetime"
   ]
  },
  {
   "cell_type": "code",
   "execution_count": 15,
   "metadata": {},
   "outputs": [],
   "source": [
    "import torch\n",
    "from torch_geometric.data import Data\n",
    "from torch_geometric.loader import DataLoader\n",
    "from torch.utils.data import Subset, TensorDataset"
   ]
  },
  {
   "cell_type": "code",
   "execution_count": 16,
   "metadata": {},
   "outputs": [
    {
     "name": "stdout",
     "output_type": "stream",
     "text": [
      "/home/ubuntu/mnt/graphnn/notebooks\n",
      "/home/ubuntu/mnt/graphnn\n"
     ]
    }
   ],
   "source": [
    "cwd = os.getcwd()\n",
    "print(cwd)\n",
    "cwd_parent = os.path.abspath(os.path.join(cwd, os.pardir))\n",
    "print(cwd_parent)\n",
    "\n",
    "sys.path.append(cwd_parent)"
   ]
  },
  {
   "cell_type": "code",
   "execution_count": 17,
   "metadata": {},
   "outputs": [],
   "source": [
    "import deepadr\n",
    "from deepadr.dataset import *\n",
    "from deepadr.utilities import *\n",
    "from deepadr.chemfeatures import *\n",
    "from deepadr.train_functions_flat import *\n",
    "from deepadr.model_gnn_ogb import GNN, DeepAdr_SiameseTrf, ExpressionNN"
   ]
  },
  {
   "cell_type": "code",
   "execution_count": 18,
   "metadata": {},
   "outputs": [],
   "source": [
    "from rdkit.Chem.Draw import IPythonConsole\n",
    "from rdkit.Chem import Draw"
   ]
  },
  {
   "cell_type": "code",
   "execution_count": 19,
   "metadata": {},
   "outputs": [],
   "source": [
    "rawdata_dir = '../data/raw/'\n",
    "processed_dir = '../data/processed/'\n",
    "up_dir = '..'"
   ]
  },
  {
   "cell_type": "code",
   "execution_count": 20,
   "metadata": {},
   "outputs": [
    {
     "data": {
      "text/plain": [
       "1"
      ]
     },
     "execution_count": 20,
     "metadata": {},
     "output_type": "execute_result"
    }
   ],
   "source": [
    "n_gpu = torch.cuda.device_count()\n",
    "n_gpu"
   ]
  },
  {
   "cell_type": "code",
   "execution_count": 21,
   "metadata": {},
   "outputs": [],
   "source": [
    "device_cpu = get_device(to_gpu=False)\n",
    "# device_gpu = get_device(True, index=0)"
   ]
  },
  {
   "cell_type": "code",
   "execution_count": 22,
   "metadata": {},
   "outputs": [
    {
     "name": "stdout",
     "output_type": "stream",
     "text": [
      "torch: 2.0.0+cu117\n",
      "CUDA: 11.7\n",
      "3.10.9 (main, Jan 11 2023, 15:21:40) [GCC 11.2.0]\n"
     ]
    }
   ],
   "source": [
    "print(\"torch:\", torch.__version__)\n",
    "print(\"CUDA:\", torch.version.cuda)\n",
    "print(sys.version)"
   ]
  },
  {
   "cell_type": "markdown",
   "metadata": {},
   "source": [
    "### Preparing dataset "
   ]
  },
  {
   "cell_type": "code",
   "execution_count": 23,
   "metadata": {},
   "outputs": [],
   "source": [
    "# options: \n",
    "# 'total_thresh' + 4,3,2\n",
    "# 'loewe_thresh', 'hsa_thresh', 'bliss_thresh', 'zip_thresh' + 1\n",
    "\n",
    "score = 'zip_thresh'\n",
    "score_val = 1"
   ]
  },
  {
   "cell_type": "code",
   "execution_count": 24,
   "metadata": {},
   "outputs": [],
   "source": [
    "DSdataset_name = f'DrugComb_{score}_{score_val}'\n",
    "\n",
    "data_fname = 'data_v1' # v2 for baseline models, v3 for additive samples"
   ]
  },
  {
   "cell_type": "code",
   "execution_count": 25,
   "metadata": {
    "scrolled": true
   },
   "outputs": [
    {
     "name": "stdout",
     "output_type": "stream",
     "text": [
      "/home/ubuntu/mnt/graphnn/data/processed/DrugComb_zip_thresh_1/data_v1\n"
     ]
    }
   ],
   "source": [
    "targetdata_dir = create_directory(os.path.join(processed_dir, DSdataset_name, data_fname))\n",
    "targetdata_dir_raw = create_directory(os.path.join(targetdata_dir, \"raw\"))\n",
    "targetdata_dir_processed = create_directory(os.path.join(targetdata_dir, \"processed\"))\n",
    "targetdata_dir_exp = create_directory(os.path.join(targetdata_dir, \"experiments\"))\n",
    "# # ReaderWriter.dump_data(dpartitions, os.path.join(targetdata_dir, 'data_partitions.pkl'))\n",
    "print(targetdata_dir)"
   ]
  },
  {
   "cell_type": "markdown",
   "metadata": {},
   "source": [
    "### Hyper Parameters"
   ]
  },
  {
   "cell_type": "code",
   "execution_count": 26,
   "metadata": {},
   "outputs": [
    {
     "data": {
      "text/plain": [
       "'/home/ubuntu/mnt/graphnn/data/processed/DrugComb_zip_thresh_1/data_v1/experiments'"
      ]
     },
     "execution_count": 26,
     "metadata": {},
     "output_type": "execute_result"
    }
   ],
   "source": [
    "targetdata_dir_exp"
   ]
  },
  {
   "cell_type": "code",
   "execution_count": 28,
   "metadata": {},
   "outputs": [],
   "source": [
    "#time_stamp = \"2022-09-14_17-49-43\"\n",
    "time_stamp= '2024-01-17'\n"
   ]
  },
  {
   "cell_type": "code",
   "execution_count": 29,
   "metadata": {},
   "outputs": [
    {
     "name": "stdout",
     "output_type": "stream",
     "text": [
      "['/home/ubuntu/mnt/graphnn/data/processed/DrugComb_zip_thresh_1/data_v1/experiments/Drug2_ID_fold_4_2024-01-17', '/home/ubuntu/mnt/graphnn/data/processed/DrugComb_zip_thresh_1/data_v1/experiments/Drug2_ID_fold_2_2024-01-17', '/home/ubuntu/mnt/graphnn/data/processed/DrugComb_zip_thresh_1/data_v1/experiments/Drug2_ID_fold_0_2024-01-17', '/home/ubuntu/mnt/graphnn/data/processed/DrugComb_zip_thresh_1/data_v1/experiments/Drug2_ID_fold_1_2024-01-17', '/home/ubuntu/mnt/graphnn/data/processed/DrugComb_zip_thresh_1/data_v1/experiments/Drug2_ID_fold_3_2024-01-17']\n"
     ]
    }
   ],
   "source": [
    "import glob\n",
    "exp_dirs = glob.glob(targetdata_dir_exp+\"/Drug1_ID_fold_*_\"+time_stamp)\n",
    "len(exp_dirs)\n",
    "#/Cell_Line_ID_fold\n",
    "print(exp_dirs)"
   ]
  },
  {
   "cell_type": "code",
   "execution_count": 30,
   "metadata": {},
   "outputs": [
    {
     "name": "stdout",
     "output_type": "stream",
     "text": [
      "4\n",
      "2\n",
      "0\n",
      "1\n",
      "3\n"
     ]
    }
   ],
   "source": [
    "folds = []\n",
    "for edir in exp_dirs:\n",
    "    fold = edir.split(\"/\")[-1].split('_')[3]\n",
    "    print(fold)\n",
    "    df_curves = pd.read_csv(edir + \"/curves.csv\")\n",
    "    df_curves[\"fold\"] = [fold] * len(df_curves)\n",
    "    folds.append(df_curves)"
   ]
  },
  {
   "cell_type": "code",
   "execution_count": 31,
   "metadata": {},
   "outputs": [
    {
     "data": {
      "text/html": [
       "<div>\n",
       "<style scoped>\n",
       "    .dataframe tbody tr th:only-of-type {\n",
       "        vertical-align: middle;\n",
       "    }\n",
       "\n",
       "    .dataframe tbody tr th {\n",
       "        vertical-align: top;\n",
       "    }\n",
       "\n",
       "    .dataframe thead th {\n",
       "        text-align: right;\n",
       "    }\n",
       "</style>\n",
       "<table border=\"1\" class=\"dataframe\">\n",
       "  <thead>\n",
       "    <tr style=\"text-align: right;\">\n",
       "      <th></th>\n",
       "      <th>epoch</th>\n",
       "      <th>train_aupr</th>\n",
       "      <th>valid_aupr</th>\n",
       "      <th>test_aupr</th>\n",
       "      <th>train_auc</th>\n",
       "      <th>valid_auc</th>\n",
       "      <th>test_auc</th>\n",
       "      <th>fold</th>\n",
       "    </tr>\n",
       "  </thead>\n",
       "  <tbody>\n",
       "    <tr>\n",
       "      <th>0</th>\n",
       "      <td>0</td>\n",
       "      <td>0.785384</td>\n",
       "      <td>0.731187</td>\n",
       "      <td>0.00000</td>\n",
       "      <td>0.712212</td>\n",
       "      <td>0.703447</td>\n",
       "      <td>0.000000</td>\n",
       "      <td>4</td>\n",
       "    </tr>\n",
       "    <tr>\n",
       "      <th>1</th>\n",
       "      <td>1</td>\n",
       "      <td>0.821535</td>\n",
       "      <td>0.744561</td>\n",
       "      <td>0.00000</td>\n",
       "      <td>0.761618</td>\n",
       "      <td>0.721048</td>\n",
       "      <td>0.000000</td>\n",
       "      <td>4</td>\n",
       "    </tr>\n",
       "    <tr>\n",
       "      <th>2</th>\n",
       "      <td>2</td>\n",
       "      <td>0.838858</td>\n",
       "      <td>0.746783</td>\n",
       "      <td>0.00000</td>\n",
       "      <td>0.784105</td>\n",
       "      <td>0.722749</td>\n",
       "      <td>0.000000</td>\n",
       "      <td>4</td>\n",
       "    </tr>\n",
       "    <tr>\n",
       "      <th>3</th>\n",
       "      <td>3</td>\n",
       "      <td>0.853410</td>\n",
       "      <td>0.784157</td>\n",
       "      <td>0.00000</td>\n",
       "      <td>0.803061</td>\n",
       "      <td>0.764016</td>\n",
       "      <td>0.000000</td>\n",
       "      <td>4</td>\n",
       "    </tr>\n",
       "    <tr>\n",
       "      <th>4</th>\n",
       "      <td>4</td>\n",
       "      <td>0.875942</td>\n",
       "      <td>0.783460</td>\n",
       "      <td>0.00000</td>\n",
       "      <td>0.832967</td>\n",
       "      <td>0.769394</td>\n",
       "      <td>0.000000</td>\n",
       "      <td>4</td>\n",
       "    </tr>\n",
       "    <tr>\n",
       "      <th>...</th>\n",
       "      <td>...</td>\n",
       "      <td>...</td>\n",
       "      <td>...</td>\n",
       "      <td>...</td>\n",
       "      <td>...</td>\n",
       "      <td>...</td>\n",
       "      <td>...</td>\n",
       "      <td>...</td>\n",
       "    </tr>\n",
       "    <tr>\n",
       "      <th>95</th>\n",
       "      <td>95</td>\n",
       "      <td>0.999679</td>\n",
       "      <td>0.861527</td>\n",
       "      <td>0.00000</td>\n",
       "      <td>0.999479</td>\n",
       "      <td>0.805018</td>\n",
       "      <td>0.000000</td>\n",
       "      <td>3</td>\n",
       "    </tr>\n",
       "    <tr>\n",
       "      <th>96</th>\n",
       "      <td>96</td>\n",
       "      <td>0.999866</td>\n",
       "      <td>0.865892</td>\n",
       "      <td>0.00000</td>\n",
       "      <td>0.999800</td>\n",
       "      <td>0.814787</td>\n",
       "      <td>0.000000</td>\n",
       "      <td>3</td>\n",
       "    </tr>\n",
       "    <tr>\n",
       "      <th>97</th>\n",
       "      <td>97</td>\n",
       "      <td>0.999917</td>\n",
       "      <td>0.859769</td>\n",
       "      <td>0.00000</td>\n",
       "      <td>0.999874</td>\n",
       "      <td>0.793623</td>\n",
       "      <td>0.000000</td>\n",
       "      <td>3</td>\n",
       "    </tr>\n",
       "    <tr>\n",
       "      <th>98</th>\n",
       "      <td>98</td>\n",
       "      <td>0.999977</td>\n",
       "      <td>0.871003</td>\n",
       "      <td>0.00000</td>\n",
       "      <td>0.999966</td>\n",
       "      <td>0.815195</td>\n",
       "      <td>0.000000</td>\n",
       "      <td>3</td>\n",
       "    </tr>\n",
       "    <tr>\n",
       "      <th>99</th>\n",
       "      <td>99</td>\n",
       "      <td>0.999989</td>\n",
       "      <td>0.869304</td>\n",
       "      <td>0.87871</td>\n",
       "      <td>0.999984</td>\n",
       "      <td>0.807878</td>\n",
       "      <td>0.829424</td>\n",
       "      <td>3</td>\n",
       "    </tr>\n",
       "  </tbody>\n",
       "</table>\n",
       "<p>500 rows × 8 columns</p>\n",
       "</div>"
      ],
      "text/plain": [
       "    epoch  train_aupr  valid_aupr  test_aupr  train_auc  valid_auc  test_auc   \n",
       "0       0    0.785384    0.731187    0.00000   0.712212   0.703447  0.000000  \\\n",
       "1       1    0.821535    0.744561    0.00000   0.761618   0.721048  0.000000   \n",
       "2       2    0.838858    0.746783    0.00000   0.784105   0.722749  0.000000   \n",
       "3       3    0.853410    0.784157    0.00000   0.803061   0.764016  0.000000   \n",
       "4       4    0.875942    0.783460    0.00000   0.832967   0.769394  0.000000   \n",
       "..    ...         ...         ...        ...        ...        ...       ...   \n",
       "95     95    0.999679    0.861527    0.00000   0.999479   0.805018  0.000000   \n",
       "96     96    0.999866    0.865892    0.00000   0.999800   0.814787  0.000000   \n",
       "97     97    0.999917    0.859769    0.00000   0.999874   0.793623  0.000000   \n",
       "98     98    0.999977    0.871003    0.00000   0.999966   0.815195  0.000000   \n",
       "99     99    0.999989    0.869304    0.87871   0.999984   0.807878  0.829424   \n",
       "\n",
       "   fold  \n",
       "0     4  \n",
       "1     4  \n",
       "2     4  \n",
       "3     4  \n",
       "4     4  \n",
       "..  ...  \n",
       "95    3  \n",
       "96    3  \n",
       "97    3  \n",
       "98    3  \n",
       "99    3  \n",
       "\n",
       "[500 rows x 8 columns]"
      ]
     },
     "execution_count": 31,
     "metadata": {},
     "output_type": "execute_result"
    }
   ],
   "source": [
    "df_folds = pd.concat(folds)\n",
    "df_folds"
   ]
  },
  {
   "cell_type": "code",
   "execution_count": 32,
   "metadata": {},
   "outputs": [
    {
     "data": {
      "text/html": [
       "<div>\n",
       "<style scoped>\n",
       "    .dataframe tbody tr th:only-of-type {\n",
       "        vertical-align: middle;\n",
       "    }\n",
       "\n",
       "    .dataframe tbody tr th {\n",
       "        vertical-align: top;\n",
       "    }\n",
       "\n",
       "    .dataframe thead th {\n",
       "        text-align: right;\n",
       "    }\n",
       "</style>\n",
       "<table border=\"1\" class=\"dataframe\">\n",
       "  <thead>\n",
       "    <tr style=\"text-align: right;\">\n",
       "      <th></th>\n",
       "      <th>test_aupr</th>\n",
       "      <th>test_auc</th>\n",
       "      <th>Fscore</th>\n",
       "    </tr>\n",
       "    <tr>\n",
       "      <th>epoch</th>\n",
       "      <th></th>\n",
       "      <th></th>\n",
       "      <th></th>\n",
       "    </tr>\n",
       "  </thead>\n",
       "  <tbody>\n",
       "    <tr>\n",
       "      <th>0</th>\n",
       "      <td>0.000000</td>\n",
       "      <td>0.000000</td>\n",
       "      <td>0.000000</td>\n",
       "    </tr>\n",
       "    <tr>\n",
       "      <th>1</th>\n",
       "      <td>0.000000</td>\n",
       "      <td>0.000000</td>\n",
       "      <td>0.000000</td>\n",
       "    </tr>\n",
       "    <tr>\n",
       "      <th>2</th>\n",
       "      <td>0.000000</td>\n",
       "      <td>0.000000</td>\n",
       "      <td>0.000000</td>\n",
       "    </tr>\n",
       "    <tr>\n",
       "      <th>3</th>\n",
       "      <td>0.000000</td>\n",
       "      <td>0.000000</td>\n",
       "      <td>0.000000</td>\n",
       "    </tr>\n",
       "    <tr>\n",
       "      <th>4</th>\n",
       "      <td>0.000000</td>\n",
       "      <td>0.000000</td>\n",
       "      <td>0.000000</td>\n",
       "    </tr>\n",
       "    <tr>\n",
       "      <th>...</th>\n",
       "      <td>...</td>\n",
       "      <td>...</td>\n",
       "      <td>...</td>\n",
       "    </tr>\n",
       "    <tr>\n",
       "      <th>95</th>\n",
       "      <td>0.000000</td>\n",
       "      <td>0.000000</td>\n",
       "      <td>0.000000</td>\n",
       "    </tr>\n",
       "    <tr>\n",
       "      <th>96</th>\n",
       "      <td>0.000000</td>\n",
       "      <td>0.000000</td>\n",
       "      <td>0.000000</td>\n",
       "    </tr>\n",
       "    <tr>\n",
       "      <th>97</th>\n",
       "      <td>0.000000</td>\n",
       "      <td>0.000000</td>\n",
       "      <td>0.000000</td>\n",
       "    </tr>\n",
       "    <tr>\n",
       "      <th>98</th>\n",
       "      <td>0.000000</td>\n",
       "      <td>0.000000</td>\n",
       "      <td>0.000000</td>\n",
       "    </tr>\n",
       "    <tr>\n",
       "      <th>99</th>\n",
       "      <td>0.893776</td>\n",
       "      <td>0.854879</td>\n",
       "      <td>0.873895</td>\n",
       "    </tr>\n",
       "  </tbody>\n",
       "</table>\n",
       "<p>100 rows × 3 columns</p>\n",
       "</div>"
      ],
      "text/plain": [
       "       test_aupr  test_auc    Fscore\n",
       "epoch                               \n",
       "0       0.000000  0.000000  0.000000\n",
       "1       0.000000  0.000000  0.000000\n",
       "2       0.000000  0.000000  0.000000\n",
       "3       0.000000  0.000000  0.000000\n",
       "4       0.000000  0.000000  0.000000\n",
       "...          ...       ...       ...\n",
       "95      0.000000  0.000000  0.000000\n",
       "96      0.000000  0.000000  0.000000\n",
       "97      0.000000  0.000000  0.000000\n",
       "98      0.000000  0.000000  0.000000\n",
       "99      0.893776  0.854879  0.873895\n",
       "\n",
       "[100 rows x 3 columns]"
      ]
     },
     "execution_count": 32,
     "metadata": {},
     "output_type": "execute_result"
    }
   ],
   "source": [
    "df_folds_epoch = df_folds.groupby(\"epoch\")[[\"test_aupr\", \"test_auc\"]].mean()\n",
    "df_folds_epoch[\"Fscore\"] = df_folds_epoch.apply(lambda x: (2*x[0]*x[1])/(x[0]+x[1]+1e-7), axis=1) # harmonic mean of AUC, AUPR\n",
    "df_folds_epoch"
   ]
  },
  {
   "cell_type": "code",
   "execution_count": 33,
   "metadata": {},
   "outputs": [
    {
     "data": {
      "text/plain": [
       "test_aupr    0.893776\n",
       "test_auc     0.854879\n",
       "Fscore       0.873895\n",
       "Name: 99, dtype: float64"
      ]
     },
     "execution_count": 33,
     "metadata": {},
     "output_type": "execute_result"
    }
   ],
   "source": [
    "best_epoch = df_folds_epoch.Fscore.idxmax()\n",
    "df_folds_epoch.loc[best_epoch]"
   ]
  },
  {
   "cell_type": "markdown",
   "metadata": {},
   "source": [
    "### Predictions (Best Epoch)"
   ]
  },
  {
   "cell_type": "code",
   "execution_count": 34,
   "metadata": {},
   "outputs": [
    {
     "name": "stdout",
     "output_type": "stream",
     "text": [
      "best epoch: 99\n"
     ]
    }
   ],
   "source": [
    "print(\"best epoch:\", best_epoch)\n",
    "\n",
    "l_pred = []\n",
    "\n",
    "for edir in exp_dirs:\n",
    "    predictions = pd.read_csv(edir + f\"/predictions/epoch_{best_epoch}_predictions_test.csv\")\n",
    "    l_pred.append(predictions)"
   ]
  },
  {
   "cell_type": "code",
   "execution_count": 35,
   "metadata": {},
   "outputs": [
    {
     "data": {
      "text/html": [
       "<div>\n",
       "<style scoped>\n",
       "    .dataframe tbody tr th:only-of-type {\n",
       "        vertical-align: middle;\n",
       "    }\n",
       "\n",
       "    .dataframe tbody tr th {\n",
       "        vertical-align: top;\n",
       "    }\n",
       "\n",
       "    .dataframe thead th {\n",
       "        text-align: right;\n",
       "    }\n",
       "</style>\n",
       "<table border=\"1\" class=\"dataframe\">\n",
       "  <thead>\n",
       "    <tr style=\"text-align: right;\">\n",
       "      <th></th>\n",
       "      <th>true_class</th>\n",
       "      <th>pred_class</th>\n",
       "      <th>prob_score_class0</th>\n",
       "      <th>prob_score_class1</th>\n",
       "    </tr>\n",
       "    <tr>\n",
       "      <th>id</th>\n",
       "      <th></th>\n",
       "      <th></th>\n",
       "      <th></th>\n",
       "      <th></th>\n",
       "    </tr>\n",
       "  </thead>\n",
       "  <tbody>\n",
       "    <tr>\n",
       "      <th>0</th>\n",
       "      <td>0</td>\n",
       "      <td>1</td>\n",
       "      <td>0.184073</td>\n",
       "      <td>0.815927</td>\n",
       "    </tr>\n",
       "    <tr>\n",
       "      <th>1</th>\n",
       "      <td>1</td>\n",
       "      <td>1</td>\n",
       "      <td>0.400565</td>\n",
       "      <td>0.599435</td>\n",
       "    </tr>\n",
       "    <tr>\n",
       "      <th>2</th>\n",
       "      <td>0</td>\n",
       "      <td>1</td>\n",
       "      <td>0.347661</td>\n",
       "      <td>0.652339</td>\n",
       "    </tr>\n",
       "    <tr>\n",
       "      <th>3</th>\n",
       "      <td>1</td>\n",
       "      <td>1</td>\n",
       "      <td>0.264404</td>\n",
       "      <td>0.735596</td>\n",
       "    </tr>\n",
       "    <tr>\n",
       "      <th>4</th>\n",
       "      <td>1</td>\n",
       "      <td>1</td>\n",
       "      <td>0.106757</td>\n",
       "      <td>0.893243</td>\n",
       "    </tr>\n",
       "    <tr>\n",
       "      <th>...</th>\n",
       "      <td>...</td>\n",
       "      <td>...</td>\n",
       "      <td>...</td>\n",
       "      <td>...</td>\n",
       "    </tr>\n",
       "    <tr>\n",
       "      <th>89030</th>\n",
       "      <td>1</td>\n",
       "      <td>1</td>\n",
       "      <td>0.227019</td>\n",
       "      <td>0.772981</td>\n",
       "    </tr>\n",
       "    <tr>\n",
       "      <th>89032</th>\n",
       "      <td>1</td>\n",
       "      <td>0</td>\n",
       "      <td>0.832738</td>\n",
       "      <td>0.167262</td>\n",
       "    </tr>\n",
       "    <tr>\n",
       "      <th>89033</th>\n",
       "      <td>0</td>\n",
       "      <td>1</td>\n",
       "      <td>0.038195</td>\n",
       "      <td>0.961805</td>\n",
       "    </tr>\n",
       "    <tr>\n",
       "      <th>89039</th>\n",
       "      <td>1</td>\n",
       "      <td>1</td>\n",
       "      <td>0.277106</td>\n",
       "      <td>0.722894</td>\n",
       "    </tr>\n",
       "    <tr>\n",
       "      <th>89045</th>\n",
       "      <td>1</td>\n",
       "      <td>1</td>\n",
       "      <td>0.342225</td>\n",
       "      <td>0.657775</td>\n",
       "    </tr>\n",
       "  </tbody>\n",
       "</table>\n",
       "<p>89047 rows × 4 columns</p>\n",
       "</div>"
      ],
      "text/plain": [
       "       true_class  pred_class  prob_score_class0  prob_score_class1\n",
       "id                                                                 \n",
       "0               0           1           0.184073           0.815927\n",
       "1               1           1           0.400565           0.599435\n",
       "2               0           1           0.347661           0.652339\n",
       "3               1           1           0.264404           0.735596\n",
       "4               1           1           0.106757           0.893243\n",
       "...           ...         ...                ...                ...\n",
       "89030           1           1           0.227019           0.772981\n",
       "89032           1           0           0.832738           0.167262\n",
       "89033           0           1           0.038195           0.961805\n",
       "89039           1           1           0.277106           0.722894\n",
       "89045           1           1           0.342225           0.657775\n",
       "\n",
       "[89047 rows x 4 columns]"
      ]
     },
     "execution_count": 35,
     "metadata": {},
     "output_type": "execute_result"
    }
   ],
   "source": [
    "df_pred = pd.concat(l_pred, axis=0).astype({\"id\":int}).set_index(\"id\")\n",
    "df_pred"
   ]
  },
  {
   "cell_type": "markdown",
   "metadata": {},
   "source": [
    "### DATA"
   ]
  },
  {
   "cell_type": "code",
   "execution_count": 36,
   "metadata": {
    "scrolled": true
   },
   "outputs": [
    {
     "data": {
      "text/html": [
       "<div>\n",
       "<style scoped>\n",
       "    .dataframe tbody tr th:only-of-type {\n",
       "        vertical-align: middle;\n",
       "    }\n",
       "\n",
       "    .dataframe tbody tr th {\n",
       "        vertical-align: top;\n",
       "    }\n",
       "\n",
       "    .dataframe thead th {\n",
       "        text-align: right;\n",
       "    }\n",
       "</style>\n",
       "<table border=\"1\" class=\"dataframe\">\n",
       "  <thead>\n",
       "    <tr style=\"text-align: right;\">\n",
       "      <th></th>\n",
       "      <th>Drug1_ID</th>\n",
       "      <th>Drug2_ID</th>\n",
       "      <th>Cell_Line_ID</th>\n",
       "      <th>Cosmic_ID</th>\n",
       "      <th>Drug1</th>\n",
       "      <th>Drug2</th>\n",
       "      <th>Y</th>\n",
       "    </tr>\n",
       "  </thead>\n",
       "  <tbody>\n",
       "    <tr>\n",
       "      <th>0</th>\n",
       "      <td>dacarbazine</td>\n",
       "      <td>717906-29-1</td>\n",
       "      <td>A-673</td>\n",
       "      <td>684052</td>\n",
       "      <td>CN(C)N=NC1=C(NC=N1)C(=O)N</td>\n",
       "      <td>CN(C1=CC=CC=C1CNC2=NC(=NC=C2C(F)(F)F)NC3=CC4=C...</td>\n",
       "      <td>0</td>\n",
       "    </tr>\n",
       "    <tr>\n",
       "      <th>1</th>\n",
       "      <td>CHEMBL3348974</td>\n",
       "      <td>717906-29-1</td>\n",
       "      <td>A-673</td>\n",
       "      <td>684052</td>\n",
       "      <td>CC(C)OC(=O)C(C)NP(=O)(OCC1C(C(C(O1)N2C=CC(=O)N...</td>\n",
       "      <td>CN(C1=CC=CC=C1CNC2=NC(=NC=C2C(F)(F)F)NC3=CC4=C...</td>\n",
       "      <td>1</td>\n",
       "    </tr>\n",
       "    <tr>\n",
       "      <th>2</th>\n",
       "      <td>Nesbuvir</td>\n",
       "      <td>717906-29-1</td>\n",
       "      <td>A-673</td>\n",
       "      <td>684052</td>\n",
       "      <td>CNC(=O)C1=C(OC2=CC(=C(C=C21)C3CC3)N(CCO)S(=O)(...</td>\n",
       "      <td>CN(C1=CC=CC=C1CNC2=NC(=NC=C2C(F)(F)F)NC3=CC4=C...</td>\n",
       "      <td>0</td>\n",
       "    </tr>\n",
       "    <tr>\n",
       "      <th>3</th>\n",
       "      <td>BMS-599626</td>\n",
       "      <td>717906-29-1</td>\n",
       "      <td>A-673</td>\n",
       "      <td>684052</td>\n",
       "      <td>CC1=C2C(=NC=NN2C=C1NC(=O)OCC3COCCN3)NC4=CC5=C(...</td>\n",
       "      <td>CN(C1=CC=CC=C1CNC2=NC(=NC=C2C(F)(F)F)NC3=CC4=C...</td>\n",
       "      <td>1</td>\n",
       "    </tr>\n",
       "    <tr>\n",
       "      <th>4</th>\n",
       "      <td>WZ8040</td>\n",
       "      <td>717906-29-1</td>\n",
       "      <td>A-673</td>\n",
       "      <td>684052</td>\n",
       "      <td>CN1CCN(CC1)C2=CC=C(C=C2)NC3=NC=C(C(=N3)SC4=CC=...</td>\n",
       "      <td>CN(C1=CC=CC=C1CNC2=NC(=NC=C2C(F)(F)F)NC3=CC4=C...</td>\n",
       "      <td>1</td>\n",
       "    </tr>\n",
       "    <tr>\n",
       "      <th>...</th>\n",
       "      <td>...</td>\n",
       "      <td>...</td>\n",
       "      <td>...</td>\n",
       "      <td>...</td>\n",
       "      <td>...</td>\n",
       "      <td>...</td>\n",
       "      <td>...</td>\n",
       "    </tr>\n",
       "    <tr>\n",
       "      <th>89042</th>\n",
       "      <td>Vorinostat</td>\n",
       "      <td>KU-60019</td>\n",
       "      <td>VM-CUB-1</td>\n",
       "      <td>909780</td>\n",
       "      <td>C1=CC=C(C=C1)NC(=O)CCCCCCC(=O)NO</td>\n",
       "      <td>CC1CN(CC(O1)C)CC(=O)NC2=CC3=C(C=C2)SC4=C(C=CC=...</td>\n",
       "      <td>1</td>\n",
       "    </tr>\n",
       "    <tr>\n",
       "      <th>89043</th>\n",
       "      <td>AZD5582</td>\n",
       "      <td>AZD4320</td>\n",
       "      <td>VM-CUB-1</td>\n",
       "      <td>909780</td>\n",
       "      <td>CC(C(=O)NC(C1CCCCC1)C(=O)N2CCCC2C(=O)NC3C(CC4=...</td>\n",
       "      <td>CN(CCC(CSC1=CC=CC=C1)NC2=C(C=C(C=C2)S(=O)(=O)N...</td>\n",
       "      <td>0</td>\n",
       "    </tr>\n",
       "    <tr>\n",
       "      <th>89044</th>\n",
       "      <td>957054-30-7</td>\n",
       "      <td>Sapitinib</td>\n",
       "      <td>VM-CUB-1</td>\n",
       "      <td>909780</td>\n",
       "      <td>CS(=O)(=O)N1CCN(CC1)CC2=CC3=C(S2)C(=NC(=N3)C4=...</td>\n",
       "      <td>CNC(=O)CN1CCC(CC1)OC2=C(C=C3C(=C2)C(=NC=N3)NC4...</td>\n",
       "      <td>1</td>\n",
       "    </tr>\n",
       "    <tr>\n",
       "      <th>89045</th>\n",
       "      <td>957054-30-7</td>\n",
       "      <td>Selumetinib</td>\n",
       "      <td>VM-CUB-1</td>\n",
       "      <td>909780</td>\n",
       "      <td>CS(=O)(=O)N1CCN(CC1)CC2=CC3=C(S2)C(=NC(=N3)C4=...</td>\n",
       "      <td>CN1C=NC2=C1C=C(C(=C2F)NC3=C(C=C(C=C3)Br)Cl)C(=...</td>\n",
       "      <td>1</td>\n",
       "    </tr>\n",
       "    <tr>\n",
       "      <th>89046</th>\n",
       "      <td>Saracatinib</td>\n",
       "      <td>AZD4320</td>\n",
       "      <td>VM-CUB-1</td>\n",
       "      <td>909780</td>\n",
       "      <td>CN1CCN(CC1)CCOC2=CC(=C3C(=C2)N=CN=C3NC4=C(C=CC...</td>\n",
       "      <td>CN(CCC(CSC1=CC=CC=C1)NC2=C(C=C(C=C2)S(=O)(=O)N...</td>\n",
       "      <td>0</td>\n",
       "    </tr>\n",
       "  </tbody>\n",
       "</table>\n",
       "<p>89047 rows × 7 columns</p>\n",
       "</div>"
      ],
      "text/plain": [
       "            Drug1_ID     Drug2_ID Cell_Line_ID  Cosmic_ID   \n",
       "0        dacarbazine  717906-29-1        A-673     684052  \\\n",
       "1      CHEMBL3348974  717906-29-1        A-673     684052   \n",
       "2           Nesbuvir  717906-29-1        A-673     684052   \n",
       "3         BMS-599626  717906-29-1        A-673     684052   \n",
       "4             WZ8040  717906-29-1        A-673     684052   \n",
       "...              ...          ...          ...        ...   \n",
       "89042     Vorinostat     KU-60019     VM-CUB-1     909780   \n",
       "89043        AZD5582      AZD4320     VM-CUB-1     909780   \n",
       "89044    957054-30-7    Sapitinib     VM-CUB-1     909780   \n",
       "89045    957054-30-7  Selumetinib     VM-CUB-1     909780   \n",
       "89046    Saracatinib      AZD4320     VM-CUB-1     909780   \n",
       "\n",
       "                                                   Drug1   \n",
       "0                              CN(C)N=NC1=C(NC=N1)C(=O)N  \\\n",
       "1      CC(C)OC(=O)C(C)NP(=O)(OCC1C(C(C(O1)N2C=CC(=O)N...   \n",
       "2      CNC(=O)C1=C(OC2=CC(=C(C=C21)C3CC3)N(CCO)S(=O)(...   \n",
       "3      CC1=C2C(=NC=NN2C=C1NC(=O)OCC3COCCN3)NC4=CC5=C(...   \n",
       "4      CN1CCN(CC1)C2=CC=C(C=C2)NC3=NC=C(C(=N3)SC4=CC=...   \n",
       "...                                                  ...   \n",
       "89042                   C1=CC=C(C=C1)NC(=O)CCCCCCC(=O)NO   \n",
       "89043  CC(C(=O)NC(C1CCCCC1)C(=O)N2CCCC2C(=O)NC3C(CC4=...   \n",
       "89044  CS(=O)(=O)N1CCN(CC1)CC2=CC3=C(S2)C(=NC(=N3)C4=...   \n",
       "89045  CS(=O)(=O)N1CCN(CC1)CC2=CC3=C(S2)C(=NC(=N3)C4=...   \n",
       "89046  CN1CCN(CC1)CCOC2=CC(=C3C(=C2)N=CN=C3NC4=C(C=CC...   \n",
       "\n",
       "                                                   Drug2  Y  \n",
       "0      CN(C1=CC=CC=C1CNC2=NC(=NC=C2C(F)(F)F)NC3=CC4=C...  0  \n",
       "1      CN(C1=CC=CC=C1CNC2=NC(=NC=C2C(F)(F)F)NC3=CC4=C...  1  \n",
       "2      CN(C1=CC=CC=C1CNC2=NC(=NC=C2C(F)(F)F)NC3=CC4=C...  0  \n",
       "3      CN(C1=CC=CC=C1CNC2=NC(=NC=C2C(F)(F)F)NC3=CC4=C...  1  \n",
       "4      CN(C1=CC=CC=C1CNC2=NC(=NC=C2C(F)(F)F)NC3=CC4=C...  1  \n",
       "...                                                  ... ..  \n",
       "89042  CC1CN(CC(O1)C)CC(=O)NC2=CC3=C(C=C2)SC4=C(C=CC=...  1  \n",
       "89043  CN(CCC(CSC1=CC=CC=C1)NC2=C(C=C(C=C2)S(=O)(=O)N...  0  \n",
       "89044  CNC(=O)CN1CCC(CC1)OC2=C(C=C3C(=C2)C(=NC=N3)NC4...  1  \n",
       "89045  CN1C=NC2=C1C=C(C(=C2F)NC3=C(C=C(C=C3)Br)Cl)C(=...  1  \n",
       "89046  CN(CCC(CSC1=CC=CC=C1)NC2=C(C=C(C=C2)S(=O)(=O)N...  0  \n",
       "\n",
       "[89047 rows x 7 columns]"
      ]
     },
     "execution_count": 36,
     "metadata": {},
     "output_type": "execute_result"
    }
   ],
   "source": [
    "data_pairs = ReaderWriter.read_data(os.path.join(targetdata_dir_raw, 'data_pairs.pkl'))\n",
    "data_pairs"
   ]
  },
  {
   "cell_type": "code",
   "execution_count": 37,
   "metadata": {},
   "outputs": [
    {
     "data": {
      "text/html": [
       "<div>\n",
       "<style scoped>\n",
       "    .dataframe tbody tr th:only-of-type {\n",
       "        vertical-align: middle;\n",
       "    }\n",
       "\n",
       "    .dataframe tbody tr th {\n",
       "        vertical-align: top;\n",
       "    }\n",
       "\n",
       "    .dataframe thead th {\n",
       "        text-align: right;\n",
       "    }\n",
       "</style>\n",
       "<table border=\"1\" class=\"dataframe\">\n",
       "  <thead>\n",
       "    <tr style=\"text-align: right;\">\n",
       "      <th></th>\n",
       "      <th>Drug1_ID</th>\n",
       "      <th>Drug2_ID</th>\n",
       "      <th>Cell_Line_ID</th>\n",
       "      <th>Cosmic_ID</th>\n",
       "      <th>Drug1</th>\n",
       "      <th>Drug2</th>\n",
       "      <th>Y</th>\n",
       "      <th>true_class</th>\n",
       "      <th>pred_class</th>\n",
       "      <th>prob_score_class0</th>\n",
       "      <th>prob_score_class1</th>\n",
       "    </tr>\n",
       "  </thead>\n",
       "  <tbody>\n",
       "    <tr>\n",
       "      <th>0</th>\n",
       "      <td>dacarbazine</td>\n",
       "      <td>717906-29-1</td>\n",
       "      <td>A-673</td>\n",
       "      <td>684052</td>\n",
       "      <td>CN(C)N=NC1=C(NC=N1)C(=O)N</td>\n",
       "      <td>CN(C1=CC=CC=C1CNC2=NC(=NC=C2C(F)(F)F)NC3=CC4=C...</td>\n",
       "      <td>0</td>\n",
       "      <td>0</td>\n",
       "      <td>1</td>\n",
       "      <td>0.184073</td>\n",
       "      <td>0.815927</td>\n",
       "    </tr>\n",
       "    <tr>\n",
       "      <th>1</th>\n",
       "      <td>CHEMBL3348974</td>\n",
       "      <td>717906-29-1</td>\n",
       "      <td>A-673</td>\n",
       "      <td>684052</td>\n",
       "      <td>CC(C)OC(=O)C(C)NP(=O)(OCC1C(C(C(O1)N2C=CC(=O)N...</td>\n",
       "      <td>CN(C1=CC=CC=C1CNC2=NC(=NC=C2C(F)(F)F)NC3=CC4=C...</td>\n",
       "      <td>1</td>\n",
       "      <td>1</td>\n",
       "      <td>1</td>\n",
       "      <td>0.400565</td>\n",
       "      <td>0.599435</td>\n",
       "    </tr>\n",
       "    <tr>\n",
       "      <th>2</th>\n",
       "      <td>Nesbuvir</td>\n",
       "      <td>717906-29-1</td>\n",
       "      <td>A-673</td>\n",
       "      <td>684052</td>\n",
       "      <td>CNC(=O)C1=C(OC2=CC(=C(C=C21)C3CC3)N(CCO)S(=O)(...</td>\n",
       "      <td>CN(C1=CC=CC=C1CNC2=NC(=NC=C2C(F)(F)F)NC3=CC4=C...</td>\n",
       "      <td>0</td>\n",
       "      <td>0</td>\n",
       "      <td>1</td>\n",
       "      <td>0.347661</td>\n",
       "      <td>0.652339</td>\n",
       "    </tr>\n",
       "    <tr>\n",
       "      <th>3</th>\n",
       "      <td>BMS-599626</td>\n",
       "      <td>717906-29-1</td>\n",
       "      <td>A-673</td>\n",
       "      <td>684052</td>\n",
       "      <td>CC1=C2C(=NC=NN2C=C1NC(=O)OCC3COCCN3)NC4=CC5=C(...</td>\n",
       "      <td>CN(C1=CC=CC=C1CNC2=NC(=NC=C2C(F)(F)F)NC3=CC4=C...</td>\n",
       "      <td>1</td>\n",
       "      <td>1</td>\n",
       "      <td>1</td>\n",
       "      <td>0.264404</td>\n",
       "      <td>0.735596</td>\n",
       "    </tr>\n",
       "    <tr>\n",
       "      <th>4</th>\n",
       "      <td>WZ8040</td>\n",
       "      <td>717906-29-1</td>\n",
       "      <td>A-673</td>\n",
       "      <td>684052</td>\n",
       "      <td>CN1CCN(CC1)C2=CC=C(C=C2)NC3=NC=C(C(=N3)SC4=CC=...</td>\n",
       "      <td>CN(C1=CC=CC=C1CNC2=NC(=NC=C2C(F)(F)F)NC3=CC4=C...</td>\n",
       "      <td>1</td>\n",
       "      <td>1</td>\n",
       "      <td>1</td>\n",
       "      <td>0.106757</td>\n",
       "      <td>0.893243</td>\n",
       "    </tr>\n",
       "    <tr>\n",
       "      <th>...</th>\n",
       "      <td>...</td>\n",
       "      <td>...</td>\n",
       "      <td>...</td>\n",
       "      <td>...</td>\n",
       "      <td>...</td>\n",
       "      <td>...</td>\n",
       "      <td>...</td>\n",
       "      <td>...</td>\n",
       "      <td>...</td>\n",
       "      <td>...</td>\n",
       "      <td>...</td>\n",
       "    </tr>\n",
       "    <tr>\n",
       "      <th>89042</th>\n",
       "      <td>Vorinostat</td>\n",
       "      <td>KU-60019</td>\n",
       "      <td>VM-CUB-1</td>\n",
       "      <td>909780</td>\n",
       "      <td>C1=CC=C(C=C1)NC(=O)CCCCCCC(=O)NO</td>\n",
       "      <td>CC1CN(CC(O1)C)CC(=O)NC2=CC3=C(C=C2)SC4=C(C=CC=...</td>\n",
       "      <td>1</td>\n",
       "      <td>1</td>\n",
       "      <td>0</td>\n",
       "      <td>0.630750</td>\n",
       "      <td>0.369250</td>\n",
       "    </tr>\n",
       "    <tr>\n",
       "      <th>89043</th>\n",
       "      <td>AZD5582</td>\n",
       "      <td>AZD4320</td>\n",
       "      <td>VM-CUB-1</td>\n",
       "      <td>909780</td>\n",
       "      <td>CC(C(=O)NC(C1CCCCC1)C(=O)N2CCCC2C(=O)NC3C(CC4=...</td>\n",
       "      <td>CN(CCC(CSC1=CC=CC=C1)NC2=C(C=C(C=C2)S(=O)(=O)N...</td>\n",
       "      <td>0</td>\n",
       "      <td>0</td>\n",
       "      <td>1</td>\n",
       "      <td>0.016261</td>\n",
       "      <td>0.983739</td>\n",
       "    </tr>\n",
       "    <tr>\n",
       "      <th>89044</th>\n",
       "      <td>957054-30-7</td>\n",
       "      <td>Sapitinib</td>\n",
       "      <td>VM-CUB-1</td>\n",
       "      <td>909780</td>\n",
       "      <td>CS(=O)(=O)N1CCN(CC1)CC2=CC3=C(S2)C(=NC(=N3)C4=...</td>\n",
       "      <td>CNC(=O)CN1CCC(CC1)OC2=C(C=C3C(=C2)C(=NC=N3)NC4...</td>\n",
       "      <td>1</td>\n",
       "      <td>1</td>\n",
       "      <td>1</td>\n",
       "      <td>0.005361</td>\n",
       "      <td>0.994639</td>\n",
       "    </tr>\n",
       "    <tr>\n",
       "      <th>89045</th>\n",
       "      <td>957054-30-7</td>\n",
       "      <td>Selumetinib</td>\n",
       "      <td>VM-CUB-1</td>\n",
       "      <td>909780</td>\n",
       "      <td>CS(=O)(=O)N1CCN(CC1)CC2=CC3=C(S2)C(=NC(=N3)C4=...</td>\n",
       "      <td>CN1C=NC2=C1C=C(C(=C2F)NC3=C(C=C(C=C3)Br)Cl)C(=...</td>\n",
       "      <td>1</td>\n",
       "      <td>1</td>\n",
       "      <td>1</td>\n",
       "      <td>0.342225</td>\n",
       "      <td>0.657775</td>\n",
       "    </tr>\n",
       "    <tr>\n",
       "      <th>89046</th>\n",
       "      <td>Saracatinib</td>\n",
       "      <td>AZD4320</td>\n",
       "      <td>VM-CUB-1</td>\n",
       "      <td>909780</td>\n",
       "      <td>CN1CCN(CC1)CCOC2=CC(=C3C(=C2)N=CN=C3NC4=C(C=CC...</td>\n",
       "      <td>CN(CCC(CSC1=CC=CC=C1)NC2=C(C=C(C=C2)S(=O)(=O)N...</td>\n",
       "      <td>0</td>\n",
       "      <td>0</td>\n",
       "      <td>1</td>\n",
       "      <td>0.364050</td>\n",
       "      <td>0.635950</td>\n",
       "    </tr>\n",
       "  </tbody>\n",
       "</table>\n",
       "<p>89047 rows × 11 columns</p>\n",
       "</div>"
      ],
      "text/plain": [
       "            Drug1_ID     Drug2_ID Cell_Line_ID  Cosmic_ID   \n",
       "0        dacarbazine  717906-29-1        A-673     684052  \\\n",
       "1      CHEMBL3348974  717906-29-1        A-673     684052   \n",
       "2           Nesbuvir  717906-29-1        A-673     684052   \n",
       "3         BMS-599626  717906-29-1        A-673     684052   \n",
       "4             WZ8040  717906-29-1        A-673     684052   \n",
       "...              ...          ...          ...        ...   \n",
       "89042     Vorinostat     KU-60019     VM-CUB-1     909780   \n",
       "89043        AZD5582      AZD4320     VM-CUB-1     909780   \n",
       "89044    957054-30-7    Sapitinib     VM-CUB-1     909780   \n",
       "89045    957054-30-7  Selumetinib     VM-CUB-1     909780   \n",
       "89046    Saracatinib      AZD4320     VM-CUB-1     909780   \n",
       "\n",
       "                                                   Drug1   \n",
       "0                              CN(C)N=NC1=C(NC=N1)C(=O)N  \\\n",
       "1      CC(C)OC(=O)C(C)NP(=O)(OCC1C(C(C(O1)N2C=CC(=O)N...   \n",
       "2      CNC(=O)C1=C(OC2=CC(=C(C=C21)C3CC3)N(CCO)S(=O)(...   \n",
       "3      CC1=C2C(=NC=NN2C=C1NC(=O)OCC3COCCN3)NC4=CC5=C(...   \n",
       "4      CN1CCN(CC1)C2=CC=C(C=C2)NC3=NC=C(C(=N3)SC4=CC=...   \n",
       "...                                                  ...   \n",
       "89042                   C1=CC=C(C=C1)NC(=O)CCCCCCC(=O)NO   \n",
       "89043  CC(C(=O)NC(C1CCCCC1)C(=O)N2CCCC2C(=O)NC3C(CC4=...   \n",
       "89044  CS(=O)(=O)N1CCN(CC1)CC2=CC3=C(S2)C(=NC(=N3)C4=...   \n",
       "89045  CS(=O)(=O)N1CCN(CC1)CC2=CC3=C(S2)C(=NC(=N3)C4=...   \n",
       "89046  CN1CCN(CC1)CCOC2=CC(=C3C(=C2)N=CN=C3NC4=C(C=CC...   \n",
       "\n",
       "                                                   Drug2  Y  true_class   \n",
       "0      CN(C1=CC=CC=C1CNC2=NC(=NC=C2C(F)(F)F)NC3=CC4=C...  0           0  \\\n",
       "1      CN(C1=CC=CC=C1CNC2=NC(=NC=C2C(F)(F)F)NC3=CC4=C...  1           1   \n",
       "2      CN(C1=CC=CC=C1CNC2=NC(=NC=C2C(F)(F)F)NC3=CC4=C...  0           0   \n",
       "3      CN(C1=CC=CC=C1CNC2=NC(=NC=C2C(F)(F)F)NC3=CC4=C...  1           1   \n",
       "4      CN(C1=CC=CC=C1CNC2=NC(=NC=C2C(F)(F)F)NC3=CC4=C...  1           1   \n",
       "...                                                  ... ..         ...   \n",
       "89042  CC1CN(CC(O1)C)CC(=O)NC2=CC3=C(C=C2)SC4=C(C=CC=...  1           1   \n",
       "89043  CN(CCC(CSC1=CC=CC=C1)NC2=C(C=C(C=C2)S(=O)(=O)N...  0           0   \n",
       "89044  CNC(=O)CN1CCC(CC1)OC2=C(C=C3C(=C2)C(=NC=N3)NC4...  1           1   \n",
       "89045  CN1C=NC2=C1C=C(C(=C2F)NC3=C(C=C(C=C3)Br)Cl)C(=...  1           1   \n",
       "89046  CN(CCC(CSC1=CC=CC=C1)NC2=C(C=C(C=C2)S(=O)(=O)N...  0           0   \n",
       "\n",
       "       pred_class  prob_score_class0  prob_score_class1  \n",
       "0               1           0.184073           0.815927  \n",
       "1               1           0.400565           0.599435  \n",
       "2               1           0.347661           0.652339  \n",
       "3               1           0.264404           0.735596  \n",
       "4               1           0.106757           0.893243  \n",
       "...           ...                ...                ...  \n",
       "89042           0           0.630750           0.369250  \n",
       "89043           1           0.016261           0.983739  \n",
       "89044           1           0.005361           0.994639  \n",
       "89045           1           0.342225           0.657775  \n",
       "89046           1           0.364050           0.635950  \n",
       "\n",
       "[89047 rows x 11 columns]"
      ]
     },
     "execution_count": 37,
     "metadata": {},
     "output_type": "execute_result"
    }
   ],
   "source": [
    "df_attn = None\n",
    "if (df_attn is not None):\n",
    "    df_all = pd.concat([data_pairs, df_attn, df_pred], axis=1)\n",
    "else: \n",
    "    df_all = pd.concat([data_pairs, df_pred], axis=1)\n",
    "    \n",
    "df_all=df_all.astype({\"true_class\":int})\n",
    "df_all"
   ]
  },
  {
   "cell_type": "code",
   "execution_count": 38,
   "metadata": {},
   "outputs": [
    {
     "data": {
      "text/plain": [
       "'/home/ubuntu/mnt/graphnn/data/processed/DrugComb_zip_thresh_1/data_v1/experiments'"
      ]
     },
     "execution_count": 38,
     "metadata": {},
     "output_type": "execute_result"
    }
   ],
   "source": [
    "targetdata_dir_exp"
   ]
  },
  {
   "cell_type": "code",
   "execution_count": 39,
   "metadata": {},
   "outputs": [
    {
     "name": "stdout",
     "output_type": "stream",
     "text": [
      "/home/ubuntu/mnt/graphnn/data/processed/DrugComb_zip_thresh_1/data_v1/experiments/all_fold_2024-01-17\n"
     ]
    }
   ],
   "source": [
    "dir_fold_all = create_directory(os.path.join(targetdata_dir_exp, \"all_fold_\" + time_stamp))\n",
    "print(dir_fold_all)"
   ]
  },
  {
   "cell_type": "code",
   "execution_count": 40,
   "metadata": {
    "scrolled": true
   },
   "outputs": [],
   "source": [
    "ReaderWriter.dump_data(df_all, os.path.join(dir_fold_all, f'drugcomb_attn_predictions_{score}_{score_val}.pkl'))"
   ]
  },
  {
   "cell_type": "code",
   "execution_count": 41,
   "metadata": {},
   "outputs": [
    {
     "data": {
      "text/plain": [
       "'zip_thresh'"
      ]
     },
     "execution_count": 41,
     "metadata": {},
     "output_type": "execute_result"
    }
   ],
   "source": [
    "score"
   ]
  },
  {
   "cell_type": "code",
   "execution_count": 42,
   "metadata": {},
   "outputs": [
    {
     "data": {
      "text/plain": [
       "1"
      ]
     },
     "execution_count": 42,
     "metadata": {},
     "output_type": "execute_result"
    }
   ],
   "source": [
    "score_val"
   ]
  },
  {
   "cell_type": "code",
   "execution_count": null,
   "metadata": {},
   "outputs": [],
   "source": []
  }
 ],
 "metadata": {
  "kernelspec": {
   "display_name": "Python 3 (ipykernel)",
   "language": "python",
   "name": "python3"
  },
  "language_info": {
   "codemirror_mode": {
    "name": "ipython",
    "version": 3
   },
   "file_extension": ".py",
   "mimetype": "text/x-python",
   "name": "python",
   "nbconvert_exporter": "python",
   "pygments_lexer": "ipython3",
   "version": "3.10.9"
  }
 },
 "nbformat": 4,
 "nbformat_minor": 4
}
